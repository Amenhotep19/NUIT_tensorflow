{
  "nbformat": 4,
  "nbformat_minor": 0,
  "metadata": {
    "colab": {
      "name": "4: Advanced Techniques and Convolutional Neural Nets",
      "provenance": [],
      "collapsed_sections": [],
      "include_colab_link": true
    },
    "kernelspec": {
      "name": "python3",
      "display_name": "Python 3"
    },
    "accelerator": "GPU"
  },
  "cells": [
    {
      "cell_type": "markdown",
      "metadata": {
        "id": "view-in-github",
        "colab_type": "text"
      },
      "source": [
        "<a href=\"https://colab.research.google.com/github/allemanau/NUIT_tensorflow/blob/master/notebooks/4_Advanced_Techniques_and_Convolutional_Neural_Nets.ipynb\" target=\"_parent\"><img src=\"https://colab.research.google.com/assets/colab-badge.svg\" alt=\"Open In Colab\"/></a>"
      ]
    },
    {
      "cell_type": "markdown",
      "metadata": {
        "id": "1dug7p5MIpi5",
        "colab_type": "text"
      },
      "source": [
        "##__4: Advanced Techniques and Convolutional Neural Nets__\n",
        "\n",
        "## Learning Objectives\n",
        "\n",
        "In this notebook, we'll learn...\n",
        "- what a convolutional layer is, and why they work well for image data;\n",
        "- how to specify and fit a convnet in TensorFlow via the Keras API\n",
        "- use of data augmentation in image analysis"
      ]
    },
    {
      "cell_type": "markdown",
      "metadata": {
        "id": "QpXiKZW1pyEt",
        "colab_type": "text"
      },
      "source": [
        "Although our previous model seems to work pretty well, it regards pixel values as independent features, since we flattened the images. In reality, pixels are spatially related, and by flattening the data, we ignore more complex spatial information beyond pixel-to-pixel relationships that may improve predictive power."
      ]
    },
    {
      "cell_type": "markdown",
      "metadata": {
        "id": "P7w2tPxC4KBW",
        "colab_type": "text"
      },
      "source": [
        "### Using a GPU runtime\n",
        "\n",
        "Convolutional nets are more expensive to train than fully connected neural nets. We will use GPU acceleration for this notebook to speed the process along. GPUs are in favor with machine learning enthusiasts because they are quick to process tensors and convolve images (this is, after all, a GPU's full-time job)."
      ]
    },
    {
      "cell_type": "markdown",
      "metadata": {
        "id": "Jw7I5CquQ9jY",
        "colab_type": "text"
      },
      "source": [
        "## __What are Convolutional Neural Nets?__\n",
        "\n",
        "The __convolutional neural network__ (or \"convnet\", or \"CNN\") uses alternating convolutional and max pooling layers to extract abstract features from image data.\n",
        "\n",
        "### __Convolutional layer__\n",
        "\n",
        "The workhorse in a CNN is the __convolutional layer__. The convolutional layer is composed of several __convolution filters__ (sometimes called \"kernels\"), which scan an image for certain shapes or features. A simplified example below illustrates how this works. When the \"eye kernel\" passes over an eye in the image, it activates, producing a large feature value:\n",
        "\n",
        "![](https://i.stack.imgur.com/9bi5k.gif)\n",
        "\n",
        "The kernel itself is a small matrix of weights, just a few pixels wide by a few pixels tall, and for color images, it has a depth equal to the number of color channels. It may seem from the example that kernels are complex, and thus need to be specified, but the weights for each kernel in the layer are actually learned by backpropagation.\n",
        "\n",
        "### Convolution operation\n",
        "\n",
        "Consider a  $3\\times3$ filter for an image:\n",
        "\n",
        "<img src=\"https://github.com/allemanau/NUIT_tensorflow/blob/master/images/conv_kernel.png?raw=1\">\n",
        "\n",
        "To get the convolution output, slide the filter over the image in each spot it fits, and take the weighted sum of the pixel values.\n",
        "\n",
        "<br>\n",
        "\n",
        "![](https://miro.medium.com/max/1070/1*Zx-ZMLKab7VOCQTxdZ1OAw.gif)\n",
        "\n",
        "<br>\n",
        "\n",
        "The convolutional output is a tensor of size\n",
        "\n",
        "<br>\n",
        "\\begin{equation*}\n",
        "\\text{(image width - filter width + 1)} \\times \\text{(image height - filter height + 1)} \\times (\\text{number of channels})\n",
        "\\end{equation*}\n",
        "<br>\n",
        "\n",
        "A layer is a collection of filters, each learning different features of the training images. Then, the size of the resulting convolutional layer will be\n",
        "\n",
        "<br>\n",
        "\\begin{equation*}\n",
        "\\text{(image width - filter width + 1)} \\times \\text{(image height - filter height + 1)} \\times (\\text{number of channels} = 1) \\times (\\text{number of filters})\n",
        "\\end{equation*}\n",
        "<br>\n",
        "\n",
        "Organizing convolutional layers is something of an art. In general, the key thing to remember is that __larger filter sizes extract generic global features__, while __smaller filter sizes extract complex local features__. Using smaller filter sizes also enables construction of a deeper network, potentially yielding performance gains at the cost of increased training and prediction time.\n",
        "\n",
        "### __Pooling__\n",
        "\n",
        "One problem with convolutional filters is that they activate precisely where the feature appears. A __pooling layer__ solves this problem by dividing a convolution filter into __patches__ and summarizing the content of the filter in that region. An extrapolation of the simple example above helps to illustrate how a pooling layer captures the same signature from a shifted version of the image:\n",
        "\n",
        "<br>\n",
        "\n",
        "![](https://i0.wp.com/www.thushv.com/wp-content/uploads/2018/05/pooling.gif?resize=1100%2C829)\n",
        "\n",
        "<br>\n",
        "\n",
        "This particular variant of pooling is called __max pooling__; it takes the largest activation value from the convolution patch to be the feature value in the pooling layer.\n",
        "\n",
        "### __Stacking convolutional and pooling layers to learn high level features__\n",
        "\n",
        "With the two primary tools of a CNN in hand, the general principle is to apply a convolutional layer, then a pooling layer, then another convolutional layer, and so on. We will do this for the MNIST data set in a moment.\n",
        "\n",
        "For novel problems, you can treat the layer sizes as parameters and tune them using a validation or cross-validation approach. Alternatively, you can adapt successful architectures others have built, [such as AlexNet](https://towardsdatascience.com/alexnet-the-architecture-that-challenged-cnns-e406d5297951), or even fine-tune the existing model for your problem via transfer learning (see the take-home exercise for more on this).\n",
        "\n"
      ]
    },
    {
      "cell_type": "markdown",
      "metadata": {
        "id": "pkwYwPEiRGS6",
        "colab_type": "text"
      },
      "source": [
        "Although there are a few aspects and tricks of convolutional layers left unexplained, we have enough in hand to apply 2D convolutional and max pooling layers to MNIST."
      ]
    },
    {
      "cell_type": "code",
      "metadata": {
        "id": "eHCKtMQRRG85",
        "colab_type": "code",
        "colab": {}
      },
      "source": [
        "# Load libraries\n",
        "%tensorflow_version 2.x\n",
        "import tensorflow as tf\n",
        "from tensorflow.keras.models import Sequential\n",
        "from tensorflow.keras.layers import Dense, Activation, Dropout, ActivityRegularization, Input, Reshape, Flatten, Conv2D, MaxPooling2D\n",
        "from tensorflow.keras.utils import plot_model, to_categorical\n",
        "\n",
        "import numpy as np\n",
        "import matplotlib.pyplot as plt\n",
        "import pandas as pd\n",
        "import seaborn as sns\n",
        "\n",
        "\n",
        "# Load MNIST data\n",
        "mnist = tf.keras.datasets.mnist\n",
        "(x_train, raw_y_train), (x_test, raw_y_test) = mnist.load_data()\n",
        "x_train = x_train.reshape((x_train.shape[0], 28, 28, 1))\n",
        "x_test = x_test.reshape((x_test.shape[0], 28, 28, 1))\n",
        "\n",
        "x_train_scl = x_train / 255.0\n",
        "x_test_scl = x_test / 255.0\n",
        "\n",
        "y_train = to_categorical(raw_y_train, num_classes = 10)\n",
        "y_test = to_categorical(raw_y_test, num_classes = 10)\n",
        "\n",
        "loss_fn = 'categorical_crossentropy'\n",
        "optim = 'adam'\n",
        "batch_size = 500\n",
        "\n",
        "conv_model = Sequential()\n",
        "conv_model.add(Reshape((28, 28, 1)))\n",
        "conv_model.add(Conv2D(32, kernel_size=(3, 3), input_shape=(28,28)))\n",
        "conv_model.add(Conv2D(64, (3, 3)))\n",
        "conv_model.add(Activation('relu'))\n",
        "conv_model.add(MaxPooling2D(pool_size=(2, 2)))\n",
        "conv_model.add(Dropout(0.2))\n",
        "conv_model.add(Flatten())\n",
        "conv_model.add(Dense(128))\n",
        "conv_model.add(Activation('relu'))\n",
        "conv_model.add(Dropout(0.5))\n",
        "conv_model.add(Dense(10))\n",
        "conv_model.add(Activation('softmax'))"
      ],
      "execution_count": 0,
      "outputs": []
    },
    {
      "cell_type": "code",
      "metadata": {
        "id": "thpjieS8RMqd",
        "colab_type": "code",
        "colab": {}
      },
      "source": [
        "conv_model.compile(optimizer = optim,\n",
        "              loss = loss_fn,\n",
        "              metrics = ['accuracy'])\n",
        "\n",
        "callback = tf.keras.callbacks.EarlyStopping(monitor='val_accuracy', \n",
        "                                            patience=5, \n",
        "                                            restore_best_weights = True)\n",
        "\n",
        "conv_model.fit(x_train_scl, \n",
        "          y_train, \n",
        "          batch_size = batch_size,\n",
        "          epochs = 50,\n",
        "          validation_split = 0.1,\n",
        "          callbacks = [callback])"
      ],
      "execution_count": 0,
      "outputs": []
    },
    {
      "cell_type": "markdown",
      "metadata": {
        "id": "pARa4gW7RWG-",
        "colab_type": "text"
      },
      "source": [
        "Our convolutional model, along with the other improvements made along the way, demonstrates superior performance -- ~99% accurate! For reference, the best kernel on Kaggle for MNIST is 99.75% accurate (and is quite a bit more complicated)."
      ]
    },
    {
      "cell_type": "code",
      "metadata": {
        "id": "N_zVGNzdRW0L",
        "colab_type": "code",
        "colab": {}
      },
      "source": [
        "conv_model.evaluate(x_test_scl,\n",
        "               y_test)"
      ],
      "execution_count": 0,
      "outputs": []
    },
    {
      "cell_type": "markdown",
      "metadata": {
        "id": "wmtGtbheRd69",
        "colab_type": "text"
      },
      "source": [
        "Again, let's peek at a selection of mistakes. Hard to blame the model for these."
      ]
    },
    {
      "cell_type": "code",
      "metadata": {
        "id": "GKC3VHsqRkH0",
        "colab_type": "code",
        "colab": {}
      },
      "source": [
        "# Get predicted classes.\n",
        "preds = conv_model.predict_classes(x_test_scl)\n",
        "\n",
        "# Prepare a figure for subplotting.\n",
        "fig = plt.figure(figsize=(12, 6))\n",
        "\n",
        "# Select one random misclass for each digit in the data set.\n",
        "for i in range(10):\n",
        "    ind = np.random.choice(np.ndarray.flatten(np.argwhere((raw_y_test == i) & (raw_y_test != preds))))\n",
        "    actual = raw_y_test[ind]\n",
        "    predicted = preds[ind]\n",
        "    plottable_image = np.reshape(x_test[ind], (28, 28))\n",
        "    ax = fig.add_subplot(2, 5, i+1)\n",
        "    ax.imshow(plottable_image, cmap='gray_r')\n",
        "    plt.xlabel(\"Actual: \" + \"{}\".format(actual) + \", Predicted: \" + \"{}\".format(predicted))"
      ],
      "execution_count": 0,
      "outputs": []
    },
    {
      "cell_type": "markdown",
      "metadata": {
        "id": "YTUApur7mHqV",
        "colab_type": "text"
      },
      "source": [
        "## __Data Augmentation__\n",
        "\n",
        "An extremely useful trick to boost performance is to apply random __label-preserving transformations__ to create new training examples. These transformations include shifting and stretching images, adding small perturbations to the pixel values, and so on. This practice, called __data augmentation__, improves the ability of the model to generalize to unseen examples exhibiting these small changes. Keras provides an easy-to-use data augmentation toolkit. Let's explore it a bit on a single image:"
      ]
    },
    {
      "cell_type": "code",
      "metadata": {
        "id": "sWyjpvW2UxUz",
        "colab_type": "code",
        "colab": {}
      },
      "source": [
        "from tensorflow.keras.preprocessing.image import ImageDataGenerator"
      ],
      "execution_count": 0,
      "outputs": []
    },
    {
      "cell_type": "markdown",
      "metadata": {
        "id": "HOXRCZg1cqDC",
        "colab_type": "text"
      },
      "source": [
        "The `ImageDataGenerator` object will ultimately replace our training set. The object uses a training set as a source to generate batches of new observations from dynamically. The list of label-preserving transformations are\n",
        "\n",
        "- rotation\n",
        "- positional shift\n",
        "- brightness\n",
        "- shear\n",
        "- zoom\n",
        "- vertical/horizontal flip\n",
        "- others, see [`ImageDataGenerator` docs](https://keras.io/preprocessing/image/#imagedatagenerator-class)\n",
        "\n",
        "Let's try a simple generator that only shifts observations:\n"
      ]
    },
    {
      "cell_type": "code",
      "metadata": {
        "id": "fv9a6laXcqMD",
        "colab_type": "code",
        "colab": {}
      },
      "source": [
        "# Can specify as a fraction of total width. Let's set to 30% to demonstrate:\n",
        "train_gen = ImageDataGenerator(\n",
        "    width_shift_range=0.3,\n",
        "    height_shift_range=0.3)\n",
        "\n",
        "for x_batch, y_batch in train_gen.flow(x_train, y_train, batch_size=9):\n",
        "\tfor i in range(0, 9):\n",
        "\t\tplt.subplot(330 + 1 + i)\n",
        "\t\tplt.imshow(x_batch[i].reshape(28, 28), cmap = plt.get_cmap('gray'))\n",
        "\tplt.show()\n",
        "\tbreak"
      ],
      "execution_count": 0,
      "outputs": []
    },
    {
      "cell_type": "markdown",
      "metadata": {
        "id": "HDdnSC9VfeVO",
        "colab_type": "text"
      },
      "source": [
        "We can add rotation and shear if so desired:"
      ]
    },
    {
      "cell_type": "code",
      "metadata": {
        "id": "qtsmLG2tfeet",
        "colab_type": "code",
        "colab": {}
      },
      "source": [
        "# Rotation range is in degrees. Shear range is \n",
        "train_gen = ImageDataGenerator(\n",
        "    rotation_range = 20,\n",
        "    shear_range = 30,\n",
        "    width_shift_range=0.15,\n",
        "    height_shift_range=0.15)\n",
        "\n",
        "for x_batch, y_batch in train_gen.flow(x_train, y_train, batch_size=9):\n",
        "\tfor i in range(0, 9):\n",
        "\t\tplt.subplot(330 + 1 + i)\n",
        "\t\tplt.imshow(x_batch[i].reshape(28, 28), cmap = plt.get_cmap('gray'))\n",
        "\tplt.show()\n",
        "\tbreak"
      ],
      "execution_count": 0,
      "outputs": []
    },
    {
      "cell_type": "markdown",
      "metadata": {
        "id": "RlAYzr2ZhN09",
        "colab_type": "text"
      },
      "source": [
        "Even though flips don't make sense for our data, we could add them:"
      ]
    },
    {
      "cell_type": "code",
      "metadata": {
        "id": "7zcjDknUhSMi",
        "colab_type": "code",
        "colab": {}
      },
      "source": [
        "# Rotation range is in degrees. Shear range is \n",
        "train_gen = ImageDataGenerator(\n",
        "    rotation_range = 20,\n",
        "    shear_range = 30,\n",
        "    width_shift_range=0.15,\n",
        "    height_shift_range=0.15,\n",
        "    horizontal_flip = True,\n",
        "    vertical_flip = True)\n",
        "\n",
        "for x_batch, y_batch in train_gen.flow(x_train, y_train, batch_size=9):\n",
        "\tfor i in range(0, 9):\n",
        "\t\tplt.subplot(330 + 1 + i)\n",
        "\t\tplt.imshow(x_batch[i].reshape(28, 28), cmap = plt.get_cmap('gray'))\n",
        "\tplt.show()\n",
        "\tbreak"
      ],
      "execution_count": 0,
      "outputs": []
    },
    {
      "cell_type": "markdown",
      "metadata": {
        "id": "xNCt_JDcwke1",
        "colab_type": "text"
      },
      "source": [
        "Let's set up a generator to transform the training set, and train a model using a random continuous `flow()` of these examples."
      ]
    },
    {
      "cell_type": "code",
      "metadata": {
        "id": "TsVPibFEkGz8",
        "colab_type": "code",
        "colab": {}
      },
      "source": [
        "# Set up a generator. Params:\n",
        "# Random rotation between +/- 8 degrees\n",
        "# Random translations of +/- 8% of total width\n",
        "# Random zooms of +/- 8% of total size.\n",
        "# Random shear of +/- 15 degrees\n",
        "train_gen = ImageDataGenerator(rotation_range = 8, \n",
        "                               width_shift_range = 0.08, \n",
        "                               shear_range = 15, \n",
        "                               height_shift_range = 0.08, \n",
        "                               zoom_range = 0.08 )\n",
        "\n",
        "# Set up a flow from our generator.\n",
        "train_set = train_gen.flow(x_train_scl, y_train, batch_size = batch_size)\n",
        "\n",
        "# Set up a second validation flow from the same generator.\n",
        "val_set = train_gen.flow(x_train_scl, y_train, batch_size=100)\n",
        "\n",
        "# Set up and compile model.\n",
        "conv_model = Sequential()\n",
        "conv_model.add(Reshape((28, 28, 1)))\n",
        "conv_model.add(Conv2D(32, kernel_size=(3, 3), input_shape=(28,28)))\n",
        "conv_model.add(Conv2D(64, (3, 3)))\n",
        "conv_model.add(Activation('relu'))\n",
        "conv_model.add(MaxPooling2D(pool_size=(2, 2)))\n",
        "conv_model.add(Dropout(0.2))\n",
        "conv_model.add(Flatten())\n",
        "conv_model.add(Dense(128))\n",
        "conv_model.add(Activation('relu'))\n",
        "conv_model.add(Dropout(0.5))\n",
        "conv_model.add(Dense(10))\n",
        "conv_model.add(Activation('softmax'))\n",
        "\n",
        "conv_model.compile(optimizer = optim,\n",
        "              loss = loss_fn,\n",
        "              metrics = ['accuracy'])\n",
        "\n",
        "# Validation steps argument only applies when ImageDataGenerator is used.\n",
        "# Since the training data is changing on each epoch, overfitting is difficult.\n",
        "# So, no callback. We'll just train for 40 epochs.\n",
        "conv_model.fit(train_set, \n",
        "                         steps_per_epoch = 60000//batch_size, \n",
        "                         validation_data = val_set, \n",
        "                         validation_steps = 10000//batch_size, \n",
        "                         epochs = 40)"
      ],
      "execution_count": 0,
      "outputs": []
    },
    {
      "cell_type": "markdown",
      "metadata": {
        "id": "VJgquKHqxZzS",
        "colab_type": "text"
      },
      "source": [
        "Evaluation should yield accuracy of around 99.4%, about 0.4% off the best known classifier. To boost this much higher, complicating the model architecture is the next step. I encourage you to check out examples on Kaggle; for instance, [this one hits 99.7% accuracy](https://www.kaggle.com/yassineghouzam/introduction-to-cnn-keras-0-997-top-6)."
      ]
    },
    {
      "cell_type": "code",
      "metadata": {
        "id": "CylwaXSpnps8",
        "colab_type": "code",
        "colab": {}
      },
      "source": [
        "conv_model.evaluate(x_test_scl, y_test)"
      ],
      "execution_count": 0,
      "outputs": []
    },
    {
      "cell_type": "markdown",
      "metadata": {
        "id": "X6VRzsf_-TYr",
        "colab_type": "text"
      },
      "source": [
        "Some people just have poor handwriting:"
      ]
    },
    {
      "cell_type": "code",
      "metadata": {
        "id": "T-GIWjJe-Sj_",
        "colab_type": "code",
        "colab": {}
      },
      "source": [
        "# Get predicted classes.\n",
        "preds = conv_model.predict_classes(x_test_scl)\n",
        "\n",
        "# Prepare a figure for subplotting.\n",
        "fig = plt.figure(figsize=(12, 6))\n",
        "\n",
        "# Select one random misclass for each digit in the data set.\n",
        "for i in range(10):\n",
        "    ind = np.random.choice(np.ndarray.flatten(np.argwhere((raw_y_test == i) & (raw_y_test != preds))))\n",
        "    actual = raw_y_test[ind]\n",
        "    predicted = preds[ind]\n",
        "    plottable_image = np.reshape(x_test[ind], (28, 28))\n",
        "    ax = fig.add_subplot(2, 5, i+1)\n",
        "    ax.imshow(plottable_image, cmap='gray_r')\n",
        "    plt.xlabel(\"Actual: \" + \"{}\".format(actual) + \", Predicted: \" + \"{}\".format(predicted))"
      ],
      "execution_count": 0,
      "outputs": []
    }
  ]
}